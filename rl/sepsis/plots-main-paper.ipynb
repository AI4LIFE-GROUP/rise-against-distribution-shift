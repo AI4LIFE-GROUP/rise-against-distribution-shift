{
 "cells": [
  {
   "cell_type": "markdown",
   "metadata": {
    "toc-hr-collapsed": true
   },
   "source": [
    "## Learning the policies"
   ]
  },
  {
   "cell_type": "code",
   "execution_count": 1,
   "metadata": {
    "ExecuteTime": {
     "end_time": "2019-04-19T16:43:04.067095Z",
     "start_time": "2019-04-19T16:43:04.049687Z"
    }
   },
   "outputs": [],
   "source": [
    "%load_ext autoreload\n",
    "%autoreload 2"
   ]
  },
  {
   "cell_type": "code",
   "execution_count": 1,
   "metadata": {
    "ExecuteTime": {
     "end_time": "2019-04-19T16:43:04.753547Z",
     "start_time": "2019-04-19T16:43:04.068986Z"
    }
   },
   "outputs": [],
   "source": [
    "import numpy as np\n",
    "import cf.counterfactual as cf\n",
    "import cf.utils as utils\n",
    "import pandas as pd\n",
    "import pickle\n",
    "import itertools as it\n",
    "from tqdm import tqdm_notebook as tqdm\n",
    "from scipy.linalg import block_diag\n",
    "\n",
    "# Sepsis Simulator code\n",
    "from sepsisSimDiabetes.State import State\n",
    "from sepsisSimDiabetes.Action import Action\n",
    "from sepsisSimDiabetes.DataGenerator import DataGenerator\n",
    "import sepsisSimDiabetes.MDP as simulator \n",
    "\n",
    "import mdptoolboxSrc.mdp as mdptools\n",
    "\n",
    "import matplotlib.pyplot as plt\n",
    "import seaborn as sns\n",
    "import warnings\n",
    "warnings.simplefilter(action='ignore', category=FutureWarning)\n",
    "\n",
    "# Avoid Type 3 fonts\n",
    "import matplotlib\n",
    "matplotlib.rcParams['pdf.fonttype'] = 42\n",
    "matplotlib.rcParams['ps.fonttype'] = 42\n",
    "\n",
    "figpath = \"./figs\""
   ]
  },
  {
   "cell_type": "code",
   "execution_count": 2,
   "metadata": {
    "ExecuteTime": {
     "end_time": "2019-04-19T16:43:04.753547Z",
     "start_time": "2019-04-19T16:43:04.068986Z"
    }
   },
   "outputs": [],
   "source": [
    "fig_prefix = \"main-paper\""
   ]
  },
  {
   "cell_type": "code",
   "execution_count": 3,
   "metadata": {
    "ExecuteTime": {
     "end_time": "2019-04-19T16:43:04.769134Z",
     "start_time": "2019-04-19T16:43:04.755230Z"
    }
   },
   "outputs": [],
   "source": [
    "SEED = 1  # Note this is not the only random seed, see the loop"
   ]
  },
  {
   "cell_type": "code",
   "execution_count": 4,
   "metadata": {
    "ExecuteTime": {
     "end_time": "2019-04-19T16:43:04.787255Z",
     "start_time": "2019-04-19T16:43:04.770642Z"
    }
   },
   "outputs": [],
   "source": [
    "np.random.seed(SEED)\n",
    "NSIMSAMPS = 1000  # Samples to draw from the simulator\n",
    "NSTEPS = 20  # Max length of each trajectory\n",
    "NCFSAMPS = 5  # Counterfactual Samples per observed sample\n",
    "DISCOUNT_Pol = 0.99 # Used for computing optimal policies\n",
    "DISCOUNT = 1 # Used for computing actual reward\n",
    "PHYS_EPSILON = 0.05 # Used for sampling using physician pol as eps greedy\n",
    "\n",
    "PROB_DIAB = 0.2\n",
    "\n",
    "# Option 1: Use bootstrapping w/replacement on the original NSIMSAMPS to estimate errors\n",
    "USE_BOOSTRAP=True\n",
    "N_BOOTSTRAP = 100\n",
    "\n",
    "# Option 2: Use repeated sampling (i.e., NSIMSAMPS fresh simulations each time) to get error bars; \n",
    "# This is done in the appendix of the paper, but not in the main paper\n",
    "N_REPEAT_SAMPLING = 1\n",
    "\n",
    "# These are properties of the simulator, do not change\n",
    "n_actions = Action.NUM_ACTIONS_TOTAL\n",
    "n_components = 2\n",
    "\n",
    "# These are added as absorbing states\n",
    "n_states_abs = State.NUM_OBS_STATES + 2\n",
    "discStateIdx = n_states_abs - 1\n",
    "deadStateIdx = n_states_abs - 2"
   ]
  },
  {
   "cell_type": "markdown",
   "metadata": {},
   "source": [
    "## Transition / Reward Mats for full-information vs. marginalized MDP"
   ]
  },
  {
   "cell_type": "markdown",
   "metadata": {},
   "source": [
    "First, we'll load the transition and reward matricies from file.  Because our simulator works in \"vitals space\" according to clinical logic, we need to do some legwork to convert this to a matrix representation.  Most notably, due to the complexity of the transitions in the simulator, it is not straightforward to read out the transition matrix from the simulator code, so we estimate it using a large amount of data from each transition (see the relevant notebook `learn_mdp_paramters.ipynb`)\n",
    "\n",
    "Once we have this \"ground truth\" transition / reward matrix learned from an arbitrarily large amount of data (or rather, two transition / reward matricies, one for each value of diabetes), we will manipulate it to construct the \"observed\" transition / reward matricies used by the physician and RL policies respectively."
   ]
  },
  {
   "cell_type": "code",
   "execution_count": 44,
   "metadata": {
    "ExecuteTime": {
     "end_time": "2019-04-19T16:43:04.944514Z",
     "start_time": "2019-04-19T16:43:04.789044Z"
    }
   },
   "outputs": [],
   "source": [
    "# Get the transition and reward matrix from file\n",
    "with open(\"./data/diab_txr_mats-replication.pkl\", \"rb\") as f:\n",
    "    mdict = pickle.load(f)\n",
    "\n",
    "tx_mat = mdict[\"tx_mat\"]\n",
    "r_mat = mdict[\"r_mat\"]\n",
    "p_mixture = np.array([1 - PROB_DIAB, PROB_DIAB])"
   ]
  },
  {
   "cell_type": "code",
   "execution_count": 45,
   "metadata": {
    "ExecuteTime": {
     "end_time": "2019-04-19T16:43:05.064330Z",
     "start_time": "2019-04-19T16:43:04.946096Z"
    }
   },
   "outputs": [],
   "source": [
    "from scipy.linalg import block_diag\n",
    "\n",
    "tx_mat_full = np.zeros((n_actions, State.NUM_FULL_STATES, State.NUM_FULL_STATES))\n",
    "r_mat_full = np.zeros((n_actions, State.NUM_FULL_STATES, State.NUM_FULL_STATES))\n",
    "\n",
    "for a in range(n_actions):\n",
    "    tx_mat_full[a, ...] = block_diag(tx_mat[0, a, ...], tx_mat[1, a,...])\n",
    "    r_mat_full[a, ...] = block_diag(r_mat[0, a, ...], r_mat[1, a, ...])"
   ]
  },
  {
   "cell_type": "code",
   "execution_count": 46,
   "metadata": {
    "ExecuteTime": {
     "end_time": "2019-04-19T16:43:14.717995Z",
     "start_time": "2019-04-19T16:43:05.066210Z"
    }
   },
   "outputs": [
    {
     "name": "stdout",
     "output_type": "stream",
     "text": [
      "CPU times: user 9.92 s, sys: 578 ms, total: 10.5 s\n",
      "Wall time: 6.78 s\n"
     ]
    }
   ],
   "source": [
    "%%time\n",
    "fullMDP = cf.MatrixMDP(tx_mat_full, r_mat_full)\n",
    "fullPol = fullMDP.policyIteration(discount=DISCOUNT_Pol, eval_type=1)\n",
    "\n",
    "physPolSoft = np.copy(fullPol)\n",
    "physPolSoft[physPolSoft == 1] = 1 - PHYS_EPSILON\n",
    "physPolSoft[physPolSoft == 0] = PHYS_EPSILON / (n_actions - 1)"
   ]
  },
  {
   "cell_type": "code",
   "execution_count": 47,
   "metadata": {
    "ExecuteTime": {
     "end_time": "2019-04-19T16:43:14.761240Z",
     "start_time": "2019-04-19T16:43:14.740751Z"
    }
   },
   "outputs": [],
   "source": [
    "obs_reward = []\n",
    "offpol_opt_reward_WIS_hard = []                         \n",
    "offpol_opt_reward_WIS_soft = [] \n",
    "offpol_opt_reward_mb = []\n",
    "offpol_opt_reward_cf = []\n",
    "true_rl_reward = []\n",
    "\n",
    "# Store all of our samples\n",
    "all_samps = []\n",
    "\n",
    "# Store all of the samples selected by Hard WIS\n",
    "wis_samps = []\n",
    "\n",
    "# Track the number of samples which match per WIS\n",
    "wis_counts = []\n",
    "\n",
    "# We will save the detailed samples from the first run\n",
    "saved_material = None"
   ]
  },
  {
   "cell_type": "code",
   "execution_count": 48,
   "metadata": {},
   "outputs": [],
   "source": [
    "# This is a QA function to ensure that the RL policy is only taking actions that have been observed\n",
    "def check_rl_policy(rl_policy, obs_samps, proj_lookup):\n",
    "    passes = True\n",
    "    # Check the observed actions for each state\n",
    "    obs_pol = np.zeros_like(rl_policy)\n",
    "    for eps_idx in range(NSIMSAMPS):\n",
    "        for time_idx in range(NSTEPS):\n",
    "            this_obs_action = int(obs_samps[eps_idx, time_idx, 1])\n",
    "            # Need to get projected state\n",
    "            if this_obs_action == -1:\n",
    "                continue\n",
    "            this_obs_state = proj_lookup[int(obs_samps[eps_idx, time_idx, 2])]\n",
    "            obs_pol[this_obs_state, this_obs_action] += 1\n",
    "\n",
    "    # Check if each RL action conforms to an observed action\n",
    "    for eps_idx in range(NSIMSAMPS):\n",
    "        for time_idx in range(NSTEPS):\n",
    "            this_full_state_unobserved = int(obs_samps[eps_idx, time_idx, 1])\n",
    "            this_obs_state = proj_lookup[this_full_state_unobserved]\n",
    "            this_obs_action = int(obs_samps[eps_idx, time_idx, 1])\n",
    "\n",
    "            if this_obs_action == -1:\n",
    "                continue\n",
    "            # This is key: In some of these trajectories, you die or get discharge.  \n",
    "            # In this case, no action is taken because the sequence has terminated, so there's nothing to compare the RL action to\n",
    "            true_death_states = r_mat[0, 0, 0, :] == -1\n",
    "            true_disch_states = r_mat[0, 0, 0, :] == 1\n",
    "            if np.logical_or(true_death_states, true_disch_states)[this_full_state_unobserved]:\n",
    "                continue\n",
    "\n",
    "            this_rl_action = rl_policy[proj_lookup[this_obs_state]].argmax()\n",
    "            if obs_pol[this_obs_state, this_rl_action] == 0:\n",
    "                print(\"Eps: {} \\t RL Action {} in State {} never observed\".format(\n",
    "                    int(time_idx / NSTEPS), this_rl_action, this_obs_state))\n",
    "                passes = False\n",
    "    return passes"
   ]
  },
  {
   "cell_type": "code",
   "execution_count": 10,
   "metadata": {},
   "outputs": [],
   "source": [
    "# # Construct the projection matrix for obs->proj states\n",
    "# n_proj_states = int((n_states_abs - 2) / 5) + 2\n",
    "# proj_matrix = np.zeros((n_states_abs, n_proj_states))\n",
    "# for i in range(n_states_abs - 2):\n",
    "#     this_state = State(state_idx = i, idx_type='obs', \n",
    "#                        diabetic_idx = 1)  # Diab a req argument, no difference\n",
    "#     # assert this_state == State(state_idx = i, idx_type = 'obs', diabetic_idx = 0)\n",
    "#     j = this_state.get_state_idx('proj_obs')\n",
    "#     proj_matrix[i, j] = 1\n",
    "\n",
    "# # Add the projection to death and discharge\n",
    "# proj_matrix[deadStateIdx, -2] = 1\n",
    "# proj_matrix[discStateIdx, -1] = 1\n",
    "\n",
    "# proj_matrix = proj_matrix.astype(int)\n",
    "\n",
    "# proj_lookup = proj_matrix.argmax(axis=-1)"
   ]
  },
  {
   "cell_type": "code",
   "execution_count": 49,
   "metadata": {},
   "outputs": [],
   "source": [
    "# Construct the projection matrix for obs->proj states\n",
    "\n",
    "# In this case, this is an identity matrix\n",
    "n_proj_states = n_states_abs\n",
    "proj_matrix = np.eye(n_states_abs)\n",
    "\n",
    "proj_matrix = proj_matrix.astype(int)\n",
    "\n",
    "proj_lookup = proj_matrix.argmax(axis=-1)"
   ]
  },
  {
   "cell_type": "code",
   "execution_count": 35,
   "metadata": {},
   "outputs": [
    {
     "name": "stdout",
     "output_type": "stream",
     "text": [
      "0.314\n",
      "0.314\n",
      "0.321\n",
      "0.318\n",
      "0.285\n",
      "0.322\n",
      "0.353\n",
      "0.307\n",
      "0.326\n",
      "0.318\n"
     ]
    }
   ],
   "source": [
    "for it,p_diab in enumerate(np.arange(0,1,0.1)):\n",
    "    PROB_DIAB = p_diab\n",
    "    np.random.seed(it)\n",
    "    dgen = DataGenerator()\n",
    "    states, actions, lengths, rewards, diab, emp_tx_totals, emp_r_totals = dgen.simulate(\n",
    "       NSIMSAMPS, NSTEPS, policy=physPolSoft, policy_idx_type='full', \n",
    "       p_diabetes=PROB_DIAB, use_tqdm=False) #True, tqdm_desc='Behaviour Policy Simulation')\n",
    "\n",
    "    obs_samps = utils.format_dgen_samps(\n",
    "       states, actions, rewards, diab, NSTEPS, NSIMSAMPS)\n",
    "\n",
    "    print(cf.eval_on_policy(\n",
    "            obs_samps, discount=DISCOUNT, \n",
    "            bootstrap=False))"
   ]
  },
  {
   "cell_type": "code",
   "execution_count": 43,
   "metadata": {},
   "outputs": [
    {
     "name": "stderr",
     "output_type": "stream",
     "text": [
      "<ipython-input-43-8794aef8a747>:5: TqdmDeprecationWarning: This function will be removed in tqdm==5.0.0\n",
      "Please use `tqdm.notebook.tqdm` instead of `tqdm.tqdm_notebook`\n",
      "  for it in tqdm(range(N_REPEAT_SAMPLING), desc=\"Outer Loop\"):\n"
     ]
    },
    {
     "data": {
      "application/vnd.jupyter.widget-view+json": {
       "model_id": "2cb5e91c4e6e4e5991a23928d7fc388c",
       "version_major": 2,
       "version_minor": 0
      },
      "text/plain": [
       "HBox(children=(FloatProgress(value=0.0, description='Outer Loop', max=10.0, style=ProgressStyle(description_wi…"
      ]
     },
     "metadata": {},
     "output_type": "display_data"
    },
    {
     "name": "stdout",
     "output_type": "stream",
     "text": [
      "\n",
      "0.0 -0.3166 0.02973953597486013\n"
     ]
    },
    {
     "data": {
      "application/vnd.jupyter.widget-view+json": {
       "model_id": "fb882b7f116c475fb724879f653d0449",
       "version_major": 2,
       "version_minor": 0
      },
      "text/plain": [
       "HBox(children=(FloatProgress(value=0.0, description='Outer Loop', max=10.0, style=ProgressStyle(description_wi…"
      ]
     },
     "metadata": {},
     "output_type": "display_data"
    },
    {
     "name": "stdout",
     "output_type": "stream",
     "text": [
      "\n",
      "0.1 -0.3114 0.021959963570097284\n"
     ]
    },
    {
     "data": {
      "application/vnd.jupyter.widget-view+json": {
       "model_id": "76d64daede9c4d62a0bca323ddd33e54",
       "version_major": 2,
       "version_minor": 0
      },
      "text/plain": [
       "HBox(children=(FloatProgress(value=0.0, description='Outer Loop', max=10.0, style=ProgressStyle(description_wi…"
      ]
     },
     "metadata": {},
     "output_type": "display_data"
    },
    {
     "name": "stdout",
     "output_type": "stream",
     "text": [
      "\n",
      "0.2 -0.32080000000000003 0.012851459061133887\n"
     ]
    },
    {
     "data": {
      "application/vnd.jupyter.widget-view+json": {
       "model_id": "72f136f0c9a74b79a515ae7fcae1051f",
       "version_major": 2,
       "version_minor": 0
      },
      "text/plain": [
       "HBox(children=(FloatProgress(value=0.0, description='Outer Loop', max=10.0, style=ProgressStyle(description_wi…"
      ]
     },
     "metadata": {},
     "output_type": "display_data"
    },
    {
     "name": "stdout",
     "output_type": "stream",
     "text": [
      "\n",
      "0.30000000000000004 -0.3143 0.0166616325730704\n"
     ]
    },
    {
     "data": {
      "application/vnd.jupyter.widget-view+json": {
       "model_id": "b7659112041642a9b5d3d19fd51bf459",
       "version_major": 2,
       "version_minor": 0
      },
      "text/plain": [
       "HBox(children=(FloatProgress(value=0.0, description='Outer Loop', max=10.0, style=ProgressStyle(description_wi…"
      ]
     },
     "metadata": {},
     "output_type": "display_data"
    },
    {
     "name": "stdout",
     "output_type": "stream",
     "text": [
      "\n",
      "0.4 -0.3137 0.020189353630069493\n"
     ]
    },
    {
     "data": {
      "application/vnd.jupyter.widget-view+json": {
       "model_id": "15b54421441b4788b800761a9cef0e23",
       "version_major": 2,
       "version_minor": 0
      },
      "text/plain": [
       "HBox(children=(FloatProgress(value=0.0, description='Outer Loop', max=10.0, style=ProgressStyle(description_wi…"
      ]
     },
     "metadata": {},
     "output_type": "display_data"
    },
    {
     "name": "stdout",
     "output_type": "stream",
     "text": [
      "\n",
      "0.5 -0.32120000000000004 0.01897788186284233\n"
     ]
    },
    {
     "data": {
      "application/vnd.jupyter.widget-view+json": {
       "model_id": "1732987fb3084a43ba29807aefdd9513",
       "version_major": 2,
       "version_minor": 0
      },
      "text/plain": [
       "HBox(children=(FloatProgress(value=0.0, description='Outer Loop', max=10.0, style=ProgressStyle(description_wi…"
      ]
     },
     "metadata": {},
     "output_type": "display_data"
    },
    {
     "name": "stdout",
     "output_type": "stream",
     "text": [
      "\n",
      "0.6000000000000001 -0.30610000000000004 0.02702757850788708\n"
     ]
    },
    {
     "data": {
      "application/vnd.jupyter.widget-view+json": {
       "model_id": "93edc20fafe14770b8ed7cd8e522d101",
       "version_major": 2,
       "version_minor": 0
      },
      "text/plain": [
       "HBox(children=(FloatProgress(value=0.0, description='Outer Loop', max=10.0, style=ProgressStyle(description_wi…"
      ]
     },
     "metadata": {},
     "output_type": "display_data"
    },
    {
     "name": "stdout",
     "output_type": "stream",
     "text": [
      "\n",
      "0.7000000000000001 -0.30700000000000005 0.024392621835300936\n"
     ]
    },
    {
     "data": {
      "application/vnd.jupyter.widget-view+json": {
       "model_id": "df85f20bd7d246218987822b51899888",
       "version_major": 2,
       "version_minor": 0
      },
      "text/plain": [
       "HBox(children=(FloatProgress(value=0.0, description='Outer Loop', max=10.0, style=ProgressStyle(description_wi…"
      ]
     },
     "metadata": {},
     "output_type": "display_data"
    },
    {
     "name": "stdout",
     "output_type": "stream",
     "text": [
      "\n",
      "0.8 -0.2975 0.027251605457293708\n"
     ]
    },
    {
     "data": {
      "application/vnd.jupyter.widget-view+json": {
       "model_id": "f47a4aec4f9549ca90aff4ff198d6c0a",
       "version_major": 2,
       "version_minor": 0
      },
      "text/plain": [
       "HBox(children=(FloatProgress(value=0.0, description='Outer Loop', max=10.0, style=ProgressStyle(description_wi…"
      ]
     },
     "metadata": {},
     "output_type": "display_data"
    },
    {
     "name": "stdout",
     "output_type": "stream",
     "text": [
      "\n",
      "0.9 -0.3172 0.01954891301325985\n"
     ]
    }
   ],
   "source": [
    "N_REPEAT_SAMPLING=10\n",
    "for p_diab in np.arange(0,1,0.1):\n",
    "    PROB_DIAB = p_diab\n",
    "    true_rl_reward = np.zeros(N_REPEAT_SAMPLING)\n",
    "    for it in tqdm(range(N_REPEAT_SAMPLING), desc=\"Outer Loop\"):\n",
    "        np.random.seed(it)\n",
    "        NSIMSAMPS_RL = NSIMSAMPS\n",
    "        states_rl, actions_rl, lengths_rl, rewards_rl, diab_rl, _, _ = dgen.simulate(\n",
    "           NSIMSAMPS_RL, NSTEPS, policy=RlPol[:-2, :], policy_idx_type='obs', \n",
    "           p_diabetes=PROB_DIAB, use_tqdm=False) #True, tqdm_desc='RL Policy Simulation')\n",
    "\n",
    "        obs_samps_rlpol = utils.format_dgen_samps(\n",
    "           states_rl, actions_rl, rewards_rl, diab_rl, NSTEPS, NSIMSAMPS_RL)\n",
    "\n",
    "        this_true_rl_reward = cf.eval_on_policy(\n",
    "            obs_samps_rlpol, discount=DISCOUNT, \n",
    "            bootstrap=False)  # Need a second axis to concat later\n",
    "        true_rl_reward[it] = this_true_rl_reward\n",
    "    print(p_diab, true_rl_reward.mean(), true_rl_reward.std())"
   ]
  },
  {
   "cell_type": "code",
   "execution_count": 52,
   "metadata": {},
   "outputs": [
    {
     "ename": "AssertionError",
     "evalue": "",
     "output_type": "error",
     "traceback": [
      "\u001b[0;31m---------------------------------------------------------------------------\u001b[0m",
      "\u001b[0;31mAssertionError\u001b[0m                            Traceback (most recent call last)",
      "\u001b[0;32m<ipython-input-52-e3070728194b>\u001b[0m in \u001b[0;36m<module>\u001b[0;34m\u001b[0m\n\u001b[1;32m      3\u001b[0m     \u001b[0mnp\u001b[0m\u001b[0;34m.\u001b[0m\u001b[0mrandom\u001b[0m\u001b[0;34m.\u001b[0m\u001b[0mseed\u001b[0m\u001b[0;34m(\u001b[0m\u001b[0mit\u001b[0m\u001b[0;34m)\u001b[0m\u001b[0;34m\u001b[0m\u001b[0;34m\u001b[0m\u001b[0m\n\u001b[1;32m      4\u001b[0m     \u001b[0mNSIMSAMPS_RL\u001b[0m \u001b[0;34m=\u001b[0m \u001b[0mNSIMSAMPS\u001b[0m\u001b[0;34m\u001b[0m\u001b[0;34m\u001b[0m\u001b[0m\n\u001b[0;32m----> 5\u001b[0;31m     states_rl, actions_rl, lengths_rl, rewards_rl, diab_rl, _, _ = dgen.simulate(\n\u001b[0m\u001b[1;32m      6\u001b[0m        \u001b[0mNSIMSAMPS_RL\u001b[0m\u001b[0;34m,\u001b[0m \u001b[0mNSTEPS\u001b[0m\u001b[0;34m,\u001b[0m \u001b[0mpolicy\u001b[0m\u001b[0;34m=\u001b[0m\u001b[0mRlPol\u001b[0m\u001b[0;34m[\u001b[0m\u001b[0;34m:\u001b[0m\u001b[0;34m-\u001b[0m\u001b[0;36m2\u001b[0m\u001b[0;34m,\u001b[0m \u001b[0;34m:\u001b[0m\u001b[0;34m]\u001b[0m\u001b[0;34m,\u001b[0m \u001b[0mpolicy_idx_type\u001b[0m\u001b[0;34m=\u001b[0m\u001b[0;34m'full'\u001b[0m\u001b[0;34m,\u001b[0m\u001b[0;34m\u001b[0m\u001b[0;34m\u001b[0m\u001b[0m\n\u001b[1;32m      7\u001b[0m        p_diabetes=PROB_DIAB, use_tqdm=False) #True, tqdm_desc='RL Policy Simulation')\n",
      "\u001b[0;32m~/Downloads/crcs/rmdp/rl-mismatch/sepsis/sepsisSimDiabetes/DataGenerator.py\u001b[0m in \u001b[0;36msimulate\u001b[0;34m(self, num_iters, max_num_steps, policy, policy_idx_type, p_diabetes, output_state_idx_type, use_tqdm, tqdm_desc)\u001b[0m\n\u001b[1;32m     36\u001b[0m         \u001b[0;31m# Record diabetes, the hidden mixture component\u001b[0m\u001b[0;34m\u001b[0m\u001b[0;34m\u001b[0m\u001b[0;34m\u001b[0m\u001b[0m\n\u001b[1;32m     37\u001b[0m         \u001b[0miter_component\u001b[0m \u001b[0;34m=\u001b[0m \u001b[0mnp\u001b[0m\u001b[0;34m.\u001b[0m\u001b[0mzeros\u001b[0m\u001b[0;34m(\u001b[0m\u001b[0;34m(\u001b[0m\u001b[0mnum_iters\u001b[0m\u001b[0;34m,\u001b[0m \u001b[0mmax_num_steps\u001b[0m\u001b[0;34m,\u001b[0m \u001b[0;36m1\u001b[0m\u001b[0;34m)\u001b[0m\u001b[0;34m,\u001b[0m \u001b[0mdtype\u001b[0m\u001b[0;34m=\u001b[0m\u001b[0mint\u001b[0m\u001b[0;34m)\u001b[0m\u001b[0;34m\u001b[0m\u001b[0;34m\u001b[0m\u001b[0m\n\u001b[0;32m---> 38\u001b[0;31m         mdp = MDP(init_state_idx=None, # Random initial state\n\u001b[0m\u001b[1;32m     39\u001b[0m                   \u001b[0mpolicy_array\u001b[0m\u001b[0;34m=\u001b[0m\u001b[0mpolicy\u001b[0m\u001b[0;34m,\u001b[0m \u001b[0mpolicy_idx_type\u001b[0m\u001b[0;34m=\u001b[0m\u001b[0mpolicy_idx_type\u001b[0m\u001b[0;34m,\u001b[0m\u001b[0;34m\u001b[0m\u001b[0;34m\u001b[0m\u001b[0m\n\u001b[1;32m     40\u001b[0m                   p_diabetes=p_diabetes)\n",
      "\u001b[0;32m~/Downloads/crcs/rmdp/rl-mismatch/sepsis/sepsisSimDiabetes/MDP.py\u001b[0m in \u001b[0;36m__init__\u001b[0;34m(self, init_state_idx, init_state_idx_type, policy_array, policy_idx_type, p_diabetes)\u001b[0m\n\u001b[1;32m     44\u001b[0m                 \u001b[0;32massert\u001b[0m \u001b[0mpolicy_array\u001b[0m\u001b[0;34m.\u001b[0m\u001b[0mshape\u001b[0m\u001b[0;34m[\u001b[0m\u001b[0;36m0\u001b[0m\u001b[0;34m]\u001b[0m \u001b[0;34m==\u001b[0m \u001b[0mState\u001b[0m\u001b[0;34m.\u001b[0m\u001b[0mNUM_OBS_STATES\u001b[0m\u001b[0;34m\u001b[0m\u001b[0;34m\u001b[0m\u001b[0m\n\u001b[1;32m     45\u001b[0m             \u001b[0;32melif\u001b[0m \u001b[0mpolicy_idx_type\u001b[0m \u001b[0;34m==\u001b[0m \u001b[0;34m'full'\u001b[0m\u001b[0;34m:\u001b[0m\u001b[0;34m\u001b[0m\u001b[0;34m\u001b[0m\u001b[0m\n\u001b[0;32m---> 46\u001b[0;31m                 \u001b[0;32massert\u001b[0m \u001b[0mpolicy_array\u001b[0m\u001b[0;34m.\u001b[0m\u001b[0mshape\u001b[0m\u001b[0;34m[\u001b[0m\u001b[0;36m0\u001b[0m\u001b[0;34m]\u001b[0m \u001b[0;34m==\u001b[0m\u001b[0;31m \u001b[0m\u001b[0;31m\\\u001b[0m\u001b[0;34m\u001b[0m\u001b[0;34m\u001b[0m\u001b[0m\n\u001b[0m\u001b[1;32m     47\u001b[0m                         \u001b[0mState\u001b[0m\u001b[0;34m.\u001b[0m\u001b[0mNUM_HID_STATES\u001b[0m \u001b[0;34m*\u001b[0m \u001b[0mState\u001b[0m\u001b[0;34m.\u001b[0m\u001b[0mNUM_OBS_STATES\u001b[0m\u001b[0;34m\u001b[0m\u001b[0;34m\u001b[0m\u001b[0m\n\u001b[1;32m     48\u001b[0m             \u001b[0;32melif\u001b[0m \u001b[0mpolicy_idx_type\u001b[0m \u001b[0;34m==\u001b[0m \u001b[0;34m'proj_obs'\u001b[0m\u001b[0;34m:\u001b[0m\u001b[0;34m\u001b[0m\u001b[0;34m\u001b[0m\u001b[0m\n",
      "\u001b[0;31mAssertionError\u001b[0m: "
     ]
    }
   ],
   "source": [
    "for it,p_diab in enumerate(np.arange(0,1,0.1)):\n",
    "    PROB_DIAB = p_diab\n",
    "    np.random.seed(it)\n",
    "    NSIMSAMPS_RL = NSIMSAMPS\n",
    "    states_rl, actions_rl, lengths_rl, rewards_rl, diab_rl, _, _ = dgen.simulate(\n",
    "       NSIMSAMPS_RL, NSTEPS, policy=RlPol[:-2, :], policy_idx_type='obs', \n",
    "       p_diabetes=PROB_DIAB, use_tqdm=False) #True, tqdm_desc='RL Policy Simulation')\n",
    "\n",
    "    obs_samps_rlpol = utils.format_dgen_samps(\n",
    "       states_rl, actions_rl, rewards_rl, diab_rl, NSTEPS, NSIMSAMPS_RL)\n",
    "\n",
    "    print(cf.eval_on_policy(\n",
    "        obs_samps_rlpol, discount=DISCOUNT, \n",
    "        bootstrap=False))  # Need a second axis to concat later"
   ]
  },
  {
   "cell_type": "code",
   "execution_count": 50,
   "metadata": {},
   "outputs": [],
   "source": [
    "PROB_DIAB = 0.2\n",
    "np.random.seed(0)\n",
    "dgen = DataGenerator()\n",
    "states, actions, lengths, rewards, diab, emp_tx_totals, emp_r_totals = dgen.simulate(\n",
    "   NSIMSAMPS, NSTEPS, policy=physPolSoft, policy_idx_type='full', \n",
    "   p_diabetes=PROB_DIAB, use_tqdm=False) #True, tqdm_desc='Behaviour Policy Simulation')\n",
    "\n",
    "obs_samps = utils.format_dgen_samps(\n",
    "   states, actions, rewards, diab, NSTEPS, NSIMSAMPS)\n",
    "\n",
    "emp_tx_mat = np.copy(emp_tx_totals)\n",
    "emp_r_mat = np.copy(emp_r_totals)\n",
    "\n",
    "############## Construct the Transition Matrix w/proj states ##############\n",
    "proj_tx_cts = np.zeros((n_actions, n_proj_states, n_proj_states))\n",
    "proj_tx_mat = np.zeros_like(proj_tx_cts)\n",
    "\n",
    "# (1) NOTE: Previous code marginalized here, but now we are just getting observed quantities out, no components\n",
    "est_tx_cts = np.copy(emp_tx_totals)\n",
    "assert est_tx_cts.ndim == 3\n",
    "\n",
    "# (2) Add new aborbing states, and a new est_tx_mat with Absorbing states\n",
    "death_states = (emp_r_mat.sum(axis=0).sum(axis=0) < 0)\n",
    "disch_states = (emp_r_mat.sum(axis=0).sum(axis=0) > 0)\n",
    "\n",
    "est_tx_cts_abs = np.zeros((n_actions, n_states_abs, n_states_abs))\n",
    "est_tx_cts_abs[:, :-2, :-2] = np.copy(est_tx_cts)\n",
    "\n",
    "death_states = np.concatenate([death_states, np.array([True, False])])\n",
    "disch_states = np.concatenate([disch_states, np.array([False, True])])\n",
    "assert est_tx_cts_abs[:, death_states, :].sum() == 0\n",
    "assert est_tx_cts_abs[:, disch_states, :].sum() == 0\n",
    "\n",
    "est_tx_cts_abs[:, death_states, deadStateIdx] = 1\n",
    "est_tx_cts_abs[:, disch_states, discStateIdx] = 1\n",
    "\n",
    "# (3) Project the new est_tx_cts_abs to the reduced state space\n",
    "for a in range(n_actions):\n",
    "    proj_tx_cts[a] = proj_matrix.T.dot(est_tx_cts_abs[a]).dot(proj_matrix)\n",
    "\n",
    "# Normalize\n",
    "nonzero_idx = proj_tx_cts.sum(axis=-1) != 0\n",
    "proj_tx_mat[nonzero_idx] = proj_tx_cts[nonzero_idx]\n",
    "\n",
    "proj_tx_mat[nonzero_idx] /= proj_tx_mat[nonzero_idx].sum(axis=-1, keepdims=True)\n",
    "\n",
    "############ Construct the reward matrix, which is known ##################\n",
    "proj_r_mat = np.zeros((n_actions, n_proj_states, n_proj_states))\n",
    "proj_r_mat[..., -2] = -1\n",
    "proj_r_mat[..., -1] = 1\n",
    "\n",
    "proj_r_mat[..., -2, -2] = 0 # No reward once in aborbing state\n",
    "proj_r_mat[..., -1, -1] = 0\n",
    "\n",
    "############ Construct the empirical prior on the initial state ##################\n",
    "initial_state_arr = np.copy(states[:, 0, 0])\n",
    "initial_state_counts = np.zeros((n_states_abs,1))\n",
    "for i in range(initial_state_arr.shape[0]):\n",
    "    initial_state_counts[initial_state_arr[i]] += 1\n",
    "\n",
    "# Project initial state counts to new states\n",
    "proj_state_counts = proj_matrix.T.dot(initial_state_counts).T\n",
    "proj_p_initial_state = proj_state_counts / proj_state_counts.sum()\n",
    "\n",
    "# Because some SA pairs are never observed, assume they cause instant death\n",
    "zero_sa_pairs = proj_tx_mat.sum(axis=-1) == 0\n",
    "proj_tx_mat[zero_sa_pairs, -2] = 1  # Always insta-death if you take a never-taken action\n",
    "\n",
    "# Construct an extra axis for the mixture component, of which there is only one\n",
    "projMDP = cf.MatrixMDP(proj_tx_mat, proj_r_mat, \n",
    "                       p_initial_state=proj_p_initial_state)\n",
    "try:\n",
    "    RlPol = projMDP.policyIteration(discount=DISCOUNT_Pol)\n",
    "except:\n",
    "    assert np.allclose(proj_tx_mat.sum(axis=-1), 1)\n",
    "    RlPol = projMDP.policyIteration(discount=DISCOUNT_Pol, skip_check=True)"
   ]
  },
  {
   "cell_type": "code",
   "execution_count": 27,
   "metadata": {},
   "outputs": [
    {
     "data": {
      "text/plain": [
       "0.325"
      ]
     },
     "execution_count": 27,
     "metadata": {},
     "output_type": "execute_result"
    }
   ],
   "source": [
    "cf.eval_on_policy(\n",
    "    obs_samps, discount=DISCOUNT, \n",
    "    bootstrap=False)"
   ]
  },
  {
   "cell_type": "code",
   "execution_count": 28,
   "metadata": {},
   "outputs": [
    {
     "data": {
      "text/plain": [
       "0.325"
      ]
     },
     "execution_count": 28,
     "metadata": {},
     "output_type": "execute_result"
    }
   ],
   "source": [
    "cf.eval_on_policy(\n",
    "    obs_samps_proj, discount=DISCOUNT, \n",
    "    bootstrap=False)"
   ]
  },
  {
   "cell_type": "code",
   "execution_count": 29,
   "metadata": {},
   "outputs": [
    {
     "data": {
      "text/plain": [
       "array([ -1,  22,  41,  49,  53,  56,  57,  59,  65,  73,  88,  92,  96,\n",
       "       120, 121, 123, 124, 125, 127, 128, 129, 131, 132, 133, 136, 137,\n",
       "       139, 140, 141, 143, 144, 145, 146, 147, 149, 152, 153, 157, 176,\n",
       "       179, 201, 202, 203, 208, 209, 210, 211, 212, 213, 214, 215, 216,\n",
       "       217, 218, 219, 220, 221, 222, 223, 224, 225, 226, 230, 233, 238,\n",
       "       248, 250, 252, 256, 280, 281, 285, 288, 289, 290, 291, 292, 293,\n",
       "       296, 297, 298, 299, 301, 302, 303, 304, 305, 308, 309, 310, 311,\n",
       "       312, 317, 319, 320, 321, 322, 323, 324, 325, 327, 328, 330, 331,\n",
       "       332, 333, 334, 335, 336, 340, 341, 343, 344, 348, 349, 352, 353,\n",
       "       356, 357, 360, 361, 362, 363, 364, 365, 366, 367, 368, 369, 370,\n",
       "       371, 372, 373, 374, 375, 376, 377, 378, 379, 380, 381, 382, 383,\n",
       "       384, 385, 387, 388, 389, 391, 392, 393, 395, 396, 397, 398, 399,\n",
       "       401, 406, 408, 410, 411, 414, 415, 416, 418, 420, 422, 423, 424,\n",
       "       432, 440, 442, 443, 445, 446, 447, 448, 449, 450, 451, 452, 453,\n",
       "       454, 455, 456, 457, 458, 459, 460, 461, 462, 463, 464, 465, 466,\n",
       "       467, 469, 470, 471, 472, 473, 474, 475, 477, 478, 479, 496, 528,\n",
       "       536, 539, 543, 560, 563, 568, 576, 584, 600, 605, 608, 609, 611,\n",
       "       613, 615, 616, 617, 618, 621, 623, 624, 625, 629, 632, 633, 637,\n",
       "       642, 643, 662, 663, 664, 680, 682, 683, 688, 689, 691, 693, 696,\n",
       "       697, 698, 699, 701, 703, 704, 712])"
      ]
     },
     "execution_count": 29,
     "metadata": {},
     "output_type": "execute_result"
    }
   ],
   "source": [
    "np.unique(states)"
   ]
  },
  {
   "cell_type": "code",
   "execution_count": 30,
   "metadata": {},
   "outputs": [
    {
     "data": {
      "text/plain": [
       "((8, 722, 722), (8, 722, 722))"
      ]
     },
     "execution_count": 30,
     "metadata": {},
     "output_type": "execute_result"
    }
   ],
   "source": [
    "proj_tx_mat.shape, proj_r_mat.shape"
   ]
  },
  {
   "cell_type": "code",
   "execution_count": 12,
   "metadata": {
    "ExecuteTime": {
     "end_time": "2019-04-19T17:12:19.338614Z",
     "start_time": "2019-04-19T16:43:14.787770Z"
    }
   },
   "outputs": [
    {
     "data": {
      "application/vnd.jupyter.widget-view+json": {
       "model_id": "ae849bffe47240b88ff88c8df72fd83e",
       "version_major": 2,
       "version_minor": 0
      },
      "text/plain": [
       "HBox(children=(IntProgress(value=0, description='Outer Loop', max=1, style=ProgressStyle(description_width='in…"
      ]
     },
     "metadata": {},
     "output_type": "display_data"
    },
    {
     "data": {
      "application/vnd.jupyter.widget-view+json": {
       "model_id": "d3078f2e6e2b4c76b220ff4bd498ce75",
       "version_major": 2,
       "version_minor": 0
      },
      "text/plain": [
       "HBox(children=(IntProgress(value=0, description='CF OPE', max=1000, style=ProgressStyle(description_width='ini…"
      ]
     },
     "metadata": {},
     "output_type": "display_data"
    },
    {
     "name": "stdout",
     "output_type": "stream",
     "text": [
      "\n"
     ]
    }
   ],
   "source": [
    "for it in tqdm(range(N_REPEAT_SAMPLING), desc=\"Outer Loop\"):\n",
    "    np.random.seed(it)\n",
    "    dgen = DataGenerator()\n",
    "    states, actions, lengths, rewards, diab, emp_tx_totals, emp_r_totals = dgen.simulate(\n",
    "       NSIMSAMPS, NSTEPS, policy=physPolSoft, policy_idx_type='full', \n",
    "       p_diabetes=PROB_DIAB, use_tqdm=False) #True, tqdm_desc='Behaviour Policy Simulation')\n",
    "\n",
    "    obs_samps = utils.format_dgen_samps(\n",
    "       states, actions, rewards, diab, NSTEPS, NSIMSAMPS)\n",
    "    \n",
    "    emp_tx_mat = np.copy(emp_tx_totals)\n",
    "    emp_r_mat = np.copy(emp_r_totals)\n",
    "\n",
    "    ############## Construct the Transition Matrix w/proj states ##############\n",
    "    proj_tx_cts = np.zeros((n_actions, n_proj_states, n_proj_states))\n",
    "    proj_tx_mat = np.zeros_like(proj_tx_cts)\n",
    "\n",
    "    # (1) NOTE: Previous code marginalized here, but now we are just getting observed quantities out, no components\n",
    "    est_tx_cts = np.copy(emp_tx_totals)\n",
    "    assert est_tx_cts.ndim == 3\n",
    "\n",
    "    # (2) Add new aborbing states, and a new est_tx_mat with Absorbing states\n",
    "    death_states = (emp_r_mat.sum(axis=0).sum(axis=0) < 0)\n",
    "    disch_states = (emp_r_mat.sum(axis=0).sum(axis=0) > 0)\n",
    "\n",
    "    est_tx_cts_abs = np.zeros((n_actions, n_states_abs, n_states_abs))\n",
    "    est_tx_cts_abs[:, :-2, :-2] = np.copy(est_tx_cts)\n",
    "\n",
    "    death_states = np.concatenate([death_states, np.array([True, False])])\n",
    "    disch_states = np.concatenate([disch_states, np.array([False, True])])\n",
    "    assert est_tx_cts_abs[:, death_states, :].sum() == 0\n",
    "    assert est_tx_cts_abs[:, disch_states, :].sum() == 0\n",
    "\n",
    "    est_tx_cts_abs[:, death_states, deadStateIdx] = 1\n",
    "    est_tx_cts_abs[:, disch_states, discStateIdx] = 1\n",
    "\n",
    "    # (3) Project the new est_tx_cts_abs to the reduced state space\n",
    "    for a in range(n_actions):\n",
    "        proj_tx_cts[a] = proj_matrix.T.dot(est_tx_cts_abs[a]).dot(proj_matrix)\n",
    "\n",
    "    # Normalize\n",
    "    nonzero_idx = proj_tx_cts.sum(axis=-1) != 0\n",
    "    proj_tx_mat[nonzero_idx] = proj_tx_cts[nonzero_idx]\n",
    "\n",
    "    proj_tx_mat[nonzero_idx] /= proj_tx_mat[nonzero_idx].sum(axis=-1, keepdims=True)\n",
    "\n",
    "    ############ Construct the reward matrix, which is known ##################\n",
    "    proj_r_mat = np.zeros((n_actions, n_proj_states, n_proj_states))\n",
    "    proj_r_mat[..., -2] = -1\n",
    "    proj_r_mat[..., -1] = 1\n",
    "\n",
    "    proj_r_mat[..., -2, -2] = 0 # No reward once in aborbing state\n",
    "    proj_r_mat[..., -1, -1] = 0\n",
    "\n",
    "    ############ Construct the empirical prior on the initial state ##################\n",
    "    initial_state_arr = np.copy(states[:, 0, 0])\n",
    "    initial_state_counts = np.zeros((n_states_abs,1))\n",
    "    for i in range(initial_state_arr.shape[0]):\n",
    "        initial_state_counts[initial_state_arr[i]] += 1\n",
    "\n",
    "    # Project initial state counts to new states\n",
    "    proj_state_counts = proj_matrix.T.dot(initial_state_counts).T\n",
    "    proj_p_initial_state = proj_state_counts / proj_state_counts.sum()\n",
    "\n",
    "    # Because some SA pairs are never observed, assume they cause instant death\n",
    "    zero_sa_pairs = proj_tx_mat.sum(axis=-1) == 0\n",
    "    proj_tx_mat[zero_sa_pairs, -2] = 1  # Always insta-death if you take a never-taken action\n",
    "\n",
    "    # Construct an extra axis for the mixture component, of which there is only one\n",
    "    projMDP = cf.MatrixMDP(proj_tx_mat, proj_r_mat, \n",
    "                           p_initial_state=proj_p_initial_state)\n",
    "    try:\n",
    "        RlPol = projMDP.policyIteration(discount=DISCOUNT_Pol)\n",
    "    except:\n",
    "        assert np.allclose(proj_tx_mat.sum(axis=-1), 1)\n",
    "        RlPol = projMDP.policyIteration(discount=DISCOUNT_Pol, skip_check=True)\n",
    "\n",
    "    # Estimate the observed policy\n",
    "    obs_pol_proj = proj_tx_cts.sum(axis=-1)  # Sum over the \"to\" state\n",
    "    obs_pol_proj = obs_pol_proj.T # Switch from (a, s) to (s, a)\n",
    "    obs_states = obs_pol_proj.sum(axis=-1) > 0 # Observed \"from\" states\n",
    "\n",
    "    obs_pol_proj[obs_states] /= obs_pol_proj[obs_states].sum(axis=-1, keepdims=True)\n",
    "    \n",
    "    # Check if we always observe the RL policy in the non-absorbing states\n",
    "    prop_rl_obs = (obs_pol_proj[:-2, :][RlPol[:-2, :]==1] > 0).mean()\n",
    "    if prop_rl_obs < 1:\n",
    "        assert check_rl_policy(RlPol, obs_samps, proj_lookup), 'RL policy validation failed'\n",
    "\n",
    "    def projection_func(obs_state_idx):\n",
    "        if obs_state_idx == -1:\n",
    "            return -1\n",
    "        else:\n",
    "            return proj_lookup[obs_state_idx]\n",
    "\n",
    "    proj_f = np.vectorize(projection_func)\n",
    "    states_proj = proj_f(states)\n",
    "    assert states_proj.shape == states.shape\n",
    "\n",
    "    obs_samps_proj = utils.format_dgen_samps(\n",
    "       states_proj, actions, rewards, diab, NSTEPS, NSIMSAMPS)\n",
    "        \n",
    "    # Get the true RL reward as a sanity check\n",
    "    # Note that the RL policy includes actions for \"death\" and \"discharge\" absorbing states, which we ignore by taking [:-2, :]\n",
    "    NSIMSAMPS_RL = NSIMSAMPS\n",
    "    states_rl, actions_rl, lengths_rl, rewards_rl, diab_rl, _, _ = dgen.simulate(\n",
    "       NSIMSAMPS_RL, NSTEPS, policy=RlPol[:-2, :], policy_idx_type='proj_obs', \n",
    "       p_diabetes=PROB_DIAB, use_tqdm=False) #True, tqdm_desc='RL Policy Simulation')\n",
    "\n",
    "    obs_samps_rlpol = utils.format_dgen_samps(\n",
    "       states_rl, actions_rl, rewards_rl, diab_rl, NSTEPS, NSIMSAMPS_RL)\n",
    "\n",
    "    this_true_rl_reward = cf.eval_on_policy(\n",
    "        obs_samps_rlpol, discount=DISCOUNT, \n",
    "        bootstrap=USE_BOOSTRAP, n_bootstrap=N_BOOTSTRAP)  # Need a second axis to concat later\n",
    "\n",
    "    # Get a soft version of the RL policy for WIS\n",
    "    RlPolSoft = np.copy(RlPol).astype(float)\n",
    "    RlPolSoft[RlPolSoft == 1] = 0.99\n",
    "    RlPolSoft[RlPolSoft == 0] = 0.01 / (n_actions - 1)\n",
    "\n",
    "    # This is the observed reward from the samples given\n",
    "    this_obs_reward = cf.eval_on_policy(\n",
    "        obs_samps_proj, discount=DISCOUNT, \n",
    "        bootstrap=USE_BOOSTRAP, n_bootstrap=N_BOOTSTRAP)\n",
    "\n",
    "    # This is the off-policy reward using WIS\n",
    "    this_offpol_opt_reward_WIS_hard, this_wis_samps, this_wis_ct = cf.eval_wis(\n",
    "        obs_samps_proj, discount=DISCOUNT,\n",
    "        bootstrap=USE_BOOSTRAP, n_bootstrap=N_BOOTSTRAP, \n",
    "        obs_policy=obs_pol_proj, new_policy=RlPol)\n",
    "\n",
    "    this_offpol_opt_reward_WIS_soft, _, _ = cf.eval_wis(\n",
    "        obs_samps_proj, discount=DISCOUNT,\n",
    "        bootstrap=USE_BOOSTRAP, n_bootstrap=N_BOOTSTRAP, \n",
    "        obs_policy=obs_pol_proj, new_policy=RlPolSoft)\n",
    "    \n",
    "    # Draw samples from the MDP under the new policy to get a model-based estimate of reward\n",
    "    BSampler = cf.BatchSampler(mdp=projMDP)\n",
    "    this_mb_samples_opt = BSampler.on_policy_sample(\n",
    "        policy=RlPol, n_steps=NSTEPS, n_samps=NSIMSAMPS_RL, \n",
    "        use_tqdm=False) #, tqdm_desc='Model-Based OPE') \n",
    "\n",
    "    this_offpol_opt_reward_mb = cf.eval_on_policy(\n",
    "        this_mb_samples_opt, discount=DISCOUNT,\n",
    "        bootstrap=USE_BOOSTRAP, n_bootstrap=N_BOOTSTRAP) \n",
    "    \n",
    "     # Get samples from the counterfactual rollouts of optimal pol\n",
    "    this_cf_opt_samps_proj = BSampler.cf_trajectory(\n",
    "        obs_samps_proj, \n",
    "        cf_policy=RlPol, \n",
    "        n_cf_samps=NCFSAMPS, use_tqdm=True, tqdm_desc='CF OPE')\n",
    "    \n",
    "    this_cf_opt_samps_proj_reshaped = \\\n",
    "    this_cf_opt_samps_proj.reshape(\n",
    "        this_cf_opt_samps_proj.shape[0] * this_cf_opt_samps_proj.shape[1],\n",
    "        this_cf_opt_samps_proj.shape[2], this_cf_opt_samps_proj.shape[3])\n",
    "\n",
    "    this_offpol_opt_reward_cf = cf.eval_on_policy(\n",
    "        this_cf_opt_samps_proj_reshaped, \n",
    "        discount=DISCOUNT, \n",
    "        bootstrap=USE_BOOSTRAP, n_bootstrap=N_BOOTSTRAP)\n",
    "    \n",
    "    if saved_material is None:\n",
    "        saved_material = {'cf_samps': np.copy(this_cf_opt_samps_proj),\n",
    "                         'obs_samps': np.copy(obs_samps)}\n",
    "    \n",
    "    wis_counts.append(this_wis_ct)\n",
    "    wis_samps.append(this_wis_samps)\n",
    "    all_samps.append(obs_samps)\n",
    "\n",
    "    obs_reward.append(this_obs_reward)\n",
    "    offpol_opt_reward_WIS_hard.append(this_offpol_opt_reward_WIS_hard)                       \n",
    "    offpol_opt_reward_WIS_soft.append(this_offpol_opt_reward_WIS_soft)\n",
    "    offpol_opt_reward_mb.append(this_offpol_opt_reward_mb)\n",
    "    offpol_opt_reward_cf.append(this_offpol_opt_reward_cf)\n",
    "    true_rl_reward.append(this_true_rl_reward)"
   ]
  },
  {
   "cell_type": "code",
   "execution_count": 13,
   "metadata": {
    "ExecuteTime": {
     "end_time": "2019-04-19T17:12:19.355539Z",
     "start_time": "2019-04-19T17:12:19.340377Z"
    }
   },
   "outputs": [],
   "source": [
    "def conv_to_np(this_list):\n",
    "    this_arr = np.array(this_list)[:, np.newaxis]\n",
    "    # Make this idempotent\n",
    "    this_arr = this_arr.squeeze()[:, np.newaxis]\n",
    "    return this_arr\n",
    "\n",
    "obs_reward = conv_to_np(obs_reward)\n",
    "offpol_opt_reward_WIS_hard = conv_to_np(offpol_opt_reward_WIS_hard)\n",
    "offpol_opt_reward_WIS_soft = conv_to_np(offpol_opt_reward_WIS_soft)\n",
    "offpol_opt_reward_mb = conv_to_np(offpol_opt_reward_mb)\n",
    "offpol_opt_reward_cf = conv_to_np(offpol_opt_reward_cf)\n",
    "true_rl_reward = conv_to_np(true_rl_reward)"
   ]
  },
  {
   "cell_type": "code",
   "execution_count": 14,
   "metadata": {
    "ExecuteTime": {
     "end_time": "2019-04-19T18:12:29.839468Z",
     "start_time": "2019-04-19T18:12:29.629901Z"
    }
   },
   "outputs": [
    {
     "data": {
      "image/png": "[encoded data removed]",
      "text/plain": [
       "<Figure size 720x360 with 1 Axes>"
      ]
     },
     "metadata": {
      "needs_background": "light"
     },
     "output_type": "display_data"
    }
   ],
   "source": [
    "plt.rcParams.update({'font.size': 20})\n",
    "reward = np.concatenate([obs_reward, \n",
    "                         offpol_opt_reward_WIS_hard,                         \n",
    "#                         offpol_opt_reward_WIS_soft, \n",
    "                         offpol_opt_reward_mb,\n",
    "                         offpol_opt_reward_cf,\n",
    "                         true_rl_reward,\n",
    "                         ], axis=1)\n",
    "reward_df = pd.DataFrame(reward, columns=['Obs', \n",
    "                                          'WIS',\n",
    "#                                          'WIS Soft',                                          \n",
    "                                          'MB',\n",
    "                                          'CF',\n",
    "                                          'True'\n",
    "                                         ])\n",
    "\n",
    "plt.figure(figsize=(10,5))\n",
    "sns.boxplot(data=reward_df, whis=[2.5, 97.5])\n",
    "plt.ylabel(\"Average Reward\")\n",
    "plt.savefig(\"{}/{}-ope_wis_mb_cf_true.pdf\".format(\n",
    "    figpath, fig_prefix))\n",
    "plt.show()"
   ]
  },
  {
   "cell_type": "code",
   "execution_count": 15,
   "metadata": {
    "ExecuteTime": {
     "end_time": "2019-04-19T18:13:58.113270Z",
     "start_time": "2019-04-19T18:13:58.086468Z"
    }
   },
   "outputs": [
    {
     "name": "stdout",
     "output_type": "stream",
     "text": [
      "RESULTS:\n",
      "\tObserved Reward:  0.3240 \t 95% Range: 0.2889 to 0.3692\n",
      "\tTrue RL Reward:\t -0.4907 \t 95% Range: -0.5405 to -0.4445\n",
      "\tWIS Estimate:\t 0.6286 \t 95% Range: 0.0680 to 0.9458\n",
      "\tMB Estimate:\t 0.9164 \t 95% Range: 0.8950 to 0.9365\n",
      "\tCF Estimate:\t 0.9531 \t 95% Range: 0.9460 to 0.9600\n"
     ]
    }
   ],
   "source": [
    "print((\"RESULTS:\"\n",
    "       \"\\n\\tObserved Reward:  {:.4f} \\t 95% Range: {:.4f} to {:.4f}\"\n",
    "       \"\\n\\tTrue RL Reward:\\t {:.4f} \\t 95% Range: {:.4f} to {:.4f}\"\n",
    "       \"\\n\\tWIS Estimate:\\t {:.4f} \\t 95% Range: {:.4f} to {:.4f}\"\n",
    "       \"\\n\\tMB Estimate:\\t {:.4f} \\t 95% Range: {:.4f} to {:.4f}\"\n",
    "       \"\\n\\tCF Estimate:\\t {:.4f} \\t 95% Range: {:.4f} to {:.4f}\").format(\n",
    "    obs_reward.mean(), \n",
    "    np.quantile(obs_reward, 0.025), \n",
    "    np.quantile(obs_reward, 0.975), \n",
    "    true_rl_reward.mean(), \n",
    "    np.quantile(true_rl_reward,0.025), \n",
    "    np.quantile(true_rl_reward, 0.975),\n",
    "    offpol_opt_reward_WIS_hard.mean(), \n",
    "    np.quantile(offpol_opt_reward_WIS_hard,0.025), \n",
    "    np.quantile(offpol_opt_reward_WIS_hard,0.975),\n",
    "    offpol_opt_reward_mb.mean(), \n",
    "    np.quantile(offpol_opt_reward_mb,0.025), \n",
    "    np.quantile(offpol_opt_reward_mb,0.975),\n",
    "    offpol_opt_reward_cf.mean(), \n",
    "    np.quantile(offpol_opt_reward_cf,0.025), \n",
    "    np.quantile(offpol_opt_reward_cf,0.975)\n",
    "))"
   ]
  },
  {
   "cell_type": "markdown",
   "metadata": {},
   "source": [
    "# Counterfactuals"
   ]
  },
  {
   "cell_type": "code",
   "execution_count": 16,
   "metadata": {},
   "outputs": [],
   "source": [
    "this_cf_opt_samps_proj = saved_material['cf_samps']\n",
    "cf_obs_samps = saved_material['obs_samps']"
   ]
  },
  {
   "cell_type": "code",
   "execution_count": 17,
   "metadata": {},
   "outputs": [],
   "source": [
    "colTime = 0\n",
    "colAction = 1\n",
    "colS0 = 2\n",
    "colS1 = 3\n",
    "colDiab = 4\n",
    "colR = 6"
   ]
  },
  {
   "cell_type": "code",
   "execution_count": 18,
   "metadata": {},
   "outputs": [],
   "source": [
    "obs_vs_cf_reward = pd.DataFrame(\n",
    "    np.zeros((NSIMSAMPS, 2)),\n",
    "    columns = ['Obs Reward', 'CF Reward'])\n",
    "\n",
    "for obs_idx in range(NSIMSAMPS):\n",
    "    # Get the MAP counterfactual reward\n",
    "    cf_r_all = this_cf_opt_samps_proj[obs_idx][..., colR].sum(axis=-1)\n",
    "    (_, idx, cts) = np.unique(cf_r_all, return_index=True, return_counts=True)\n",
    "    cf_idx = idx[np.argmax(cts)]\n",
    "    cf_r = cf_r_all[cf_idx]\n",
    "    assert cf_r in [-1, 0, 1]    \n",
    "    \n",
    "    # Get the observed reward\n",
    "    obs_r = cf_obs_samps[obs_idx][..., colR].sum()\n",
    "    assert obs_r in [-1, 0, 1]\n",
    "    \n",
    "    obs_vs_cf_reward.iloc[obs_idx] = np.array([obs_r, cf_r])"
   ]
  },
  {
   "cell_type": "code",
   "execution_count": 19,
   "metadata": {},
   "outputs": [],
   "source": [
    "result_mat = np.zeros((3, 3))\n",
    "\n",
    "cf_idxs = [obs_vs_cf_reward['CF Reward'] == i for i in [-1, 0, 1]]\n",
    "obs_idxs = [obs_vs_cf_reward['Obs Reward'] == i for i in [-1, 0, 1]]\n",
    "\n",
    "import itertools\n",
    "for i, j in itertools.product(range(3), range(3)):\n",
    "    result_mat[i, j] = np.logical_and(obs_idxs[i], cf_idxs[j]).sum()\n",
    "    \n",
    "result_mat /= result_mat.sum()"
   ]
  },
  {
   "cell_type": "code",
   "execution_count": 20,
   "metadata": {},
   "outputs": [
    {
     "data": {
      "image/png": "[encoded data removed]",
      "text/plain": [
       "<Figure size 720x720 with 1 Axes>"
      ]
     },
     "metadata": {
      "needs_background": "light"
     },
     "output_type": "display_data"
    }
   ],
   "source": [
    "plt.figure(figsize=(10, 10))\n",
    "plt.rcParams.update({'font.size': 48})\n",
    "ax = sns.heatmap(result_mat, annot=True, \n",
    "                 annot_kws={'fontsize': 72},\n",
    "                 fmt='.0%', cbar=False, cmap='Blues')\n",
    "ax.set_xlabel(\"\\nCounterfactual Outcome\")\n",
    "ax.set_ylabel(\"Observed Outcome\\n\")\n",
    "ax.set_xticklabels(['Died', 'No Chg.', 'Disch.'])\n",
    "ax.set_yticklabels(['Died', 'No Chg.', 'Disch.'])\n",
    "for tick in ax.yaxis.get_major_ticks():\n",
    "    tick.label1.set_verticalalignment('center')\n",
    "plt.savefig(\"{}/{}-optimistic_decomp.pdf\".format(figpath, fig_prefix), bbox_inches='tight')\n",
    "plt.show()"
   ]
  },
  {
   "cell_type": "code",
   "execution_count": 21,
   "metadata": {},
   "outputs": [
    {
     "name": "stdout",
     "output_type": "stream",
     "text": [
      "There are 103 patients who the model believes would have been discharged\n"
     ]
    }
   ],
   "source": [
    "would_have_lived_idx = np.logical_and(cf_idxs[2], obs_idxs[0])\n",
    "print(\"There are {} patients who the model believes would have been discharged\".format(\n",
    "would_have_lived_idx.sum()))"
   ]
  },
  {
   "cell_type": "code",
   "execution_count": 22,
   "metadata": {},
   "outputs": [],
   "source": [
    "selected_obs_trajectories = cf_obs_samps[would_have_lived_idx]\n",
    "selected_cf_trajectories = this_cf_opt_samps_proj[would_have_lived_idx]\n",
    "num_selected_traj = selected_obs_trajectories.shape[0]"
   ]
  },
  {
   "cell_type": "code",
   "execution_count": 23,
   "metadata": {},
   "outputs": [],
   "source": [
    "# Get lengths as the time until action = -1\n",
    "obs_lengths = np.ones(num_selected_traj)*NSTEPS\n",
    "for traj_idx in range(num_selected_traj):\n",
    "    for time_idx in range(NSTEPS):\n",
    "        if selected_obs_trajectories[traj_idx, time_idx, colR] != 0:\n",
    "            #print(\"Setting {} to length {}\".format(traj_idx, time_idx))\n",
    "            obs_lengths[traj_idx] = time_idx\n",
    "            break\n",
    "\n",
    "obs_lengths = obs_lengths.astype(int)"
   ]
  },
  {
   "cell_type": "code",
   "execution_count": 24,
   "metadata": {},
   "outputs": [
    {
     "data": {
      "text/plain": [
       "(array([16, 19, 20, 21, 22, 28, 30, 36, 43, 45, 47, 52, 58, 63, 66, 67, 71,\n",
       "        74, 77, 82, 85, 86, 87, 88, 92, 96, 97]),)"
      ]
     },
     "execution_count": 24,
     "metadata": {},
     "output_type": "execute_result"
    }
   ],
   "source": [
    "# This gives all of the trajectories with a reasonable length, for further inspection\n",
    "np.where(obs_lengths > 10)"
   ]
  },
  {
   "cell_type": "code",
   "execution_count": 25,
   "metadata": {},
   "outputs": [
    {
     "data": {
      "image/png": "[encoded data removed]",
      "text/plain": [
       "<Figure size 576x720 with 7 Axes>"
      ]
     },
     "metadata": {
      "needs_background": "light"
     },
     "output_type": "display_data"
    }
   ],
   "source": [
    "plt.rcParams.update({'font.size': 14})\n",
    "\n",
    "# RL policy attempts no treatment from the start, mistake due to glucose\n",
    "# 16; 20; 21; 30; 45; 47; 52; 58; 66; 71; 74; 77; 82; 85; 97\n",
    "\n",
    "# RL policy thinks it could have stabilized, then discharged, but glucose would still have been off\n",
    "# 19*; 28; 43; 67; 86*; 87*; 88; 96\n",
    "\n",
    "# RL policy thinks it could have stabilized, then discharged;  Might be correct, glucose was not abnormal\n",
    "# 22; 36; 92\n",
    "\n",
    "# Other\n",
    "# 63; \n",
    "\n",
    "traj_idx = 86\n",
    "\n",
    "fig, axes = utils.plot_trajectory(\n",
    "        selected_obs_trajectories, \n",
    "        pt_idx=traj_idx, \n",
    "        cf=True, \n",
    "        cf_samps=selected_cf_trajectories, \n",
    "        cf_proj=True\n",
    "        )\n",
    "\n",
    "plt.savefig('{}/{}-example-trajectory-{}.pdf'.format(figpath, fig_prefix, traj_idx), bbox_inches='tight')\n",
    "plt.show()"
   ]
  }
 ],
 "metadata": {
  "kernelspec": {
   "display_name": "Python 3",
   "language": "python",
   "name": "python3"
  },
  "language_info": {
   "codemirror_mode": {
    "name": "ipython",
    "version": 3
   },
   "file_extension": ".py",
   "mimetype": "text/x-python",
   "name": "python",
   "nbconvert_exporter": "python",
   "pygments_lexer": "ipython3",
   "version": "3.8.3"
  },
  "toc-showcode": false,
  "toc-showmarkdowntxt": true,
  "toc-showtags": false
 },
 "nbformat": 4,
 "nbformat_minor": 4
}
